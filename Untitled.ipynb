{
 "cells": [
  {
   "cell_type": "code",
   "execution_count": 29,
   "id": "61194623",
   "metadata": {},
   "outputs": [],
   "source": [
    "class Pizza:\n",
    "#     cheese_toppings = 0\n",
    "#     pepperoni_toppings = 0\n",
    "#     mushroom_toppings = 0\n",
    "#     size = None\n",
    "\n",
    "        \n",
    "    def __init__(self,cheese_toppings,pepperoni_toppings,mushroom_toppings,size):\n",
    "        self.cheese_toppings = cheese_toppings\n",
    "        self.pepperoni_toppings = pepperoni_toppings\n",
    "        self.mushroom_toppings = mushroom_toppings\n",
    "        if size == 1:\n",
    "            self.size = 'small'\n",
    "        elif size == 2:\n",
    "            self.size = 'medium'\n",
    "        elif size == 3:\n",
    "            self.size = 'large'\n",
    "        else:\n",
    "            size = None\n",
    "            \n",
    "        \n",
    "    def get_cheese_toppings(self):\n",
    "        return self.cheese_toppings\n",
    "    \n",
    "    def set_cheese_toppings(self,cheese_toppings):\n",
    "        self.cheese_toppings = cheese_toppings\n",
    "    \n",
    "    def get_pepperoni_toppings(self):\n",
    "        return self.pepperoni_toppings\n",
    "    \n",
    "    def set_pepperoni_toppings(self,pepperoni_toppings):\n",
    "        self.pepperoni_toppings = pepperoni_toppings\n",
    "    \n",
    "    def get_mushroom_toppings(self):\n",
    "        return self.mushroom_toppings\n",
    "    \n",
    "    def set_mushroom_toppings(self,mushroom_toppings):\n",
    "        self.mushroom_toppings = mushroom_toppings    \n",
    "        \n",
    "    def calcCost(self):\n",
    "        if self.size == 'small':\n",
    "            return 10+(self.cheese_toppings*2)+(self.pepperoni_toppings*2)+(self.mushroom_toppings*2)\n",
    "        elif self.size == 'medium':\n",
    "            return 12+(self.cheese_toppings*2)+(self.pepperoni_toppings*2)+(self.mushroom_toppings*2)\n",
    "        elif self.size == 'large':\n",
    "            return 14+(self.cheese_toppings*2)+(self.pepperoni_toppings*2)+(self.mushroom_toppings*2)\n",
    "        else:\n",
    "            return (self.cheese_toppings*2)+(self.pepperoni_toppings*2)+(self.mushroom_toppings*2)\n",
    "        \n",
    "    def __str__(self):\n",
    "        return f\"\"\"Size of pizza : {self.size} \n",
    "                   Cheese Toppings : {str(self.cheese_toppings)}\n",
    "                   Pepperoni Toppings : {str(self.pepperoni_toppings)}\n",
    "                   Mushroom Toppings : {str(self.mushroom_toppings)}\"\"\""
   ]
  },
  {
   "cell_type": "code",
   "execution_count": 30,
   "id": "2f1a46aa",
   "metadata": {},
   "outputs": [],
   "source": [
    "pizza = Pizza(2,2,4,3)"
   ]
  },
  {
   "cell_type": "code",
   "execution_count": 31,
   "id": "777d417f",
   "metadata": {},
   "outputs": [
    {
     "name": "stdout",
     "output_type": "stream",
     "text": [
      "large\n"
     ]
    }
   ],
   "source": [
    "print(pizza.size)"
   ]
  },
  {
   "cell_type": "code",
   "execution_count": 32,
   "id": "c859492a",
   "metadata": {},
   "outputs": [
    {
     "data": {
      "text/plain": [
       "30"
      ]
     },
     "execution_count": 32,
     "metadata": {},
     "output_type": "execute_result"
    }
   ],
   "source": [
    "pizza.calcCost()"
   ]
  },
  {
   "cell_type": "code",
   "execution_count": 33,
   "id": "d9deddde",
   "metadata": {},
   "outputs": [
    {
     "name": "stdout",
     "output_type": "stream",
     "text": [
      "4\n"
     ]
    }
   ],
   "source": [
    "print(pizza.get_mushroom_toppings())"
   ]
  },
  {
   "cell_type": "code",
   "execution_count": 27,
   "id": "72f4b691",
   "metadata": {},
   "outputs": [],
   "source": [
    "a = f\"dsfgfds\\ndsgdsggfd\""
   ]
  },
  {
   "cell_type": "code",
   "execution_count": 28,
   "id": "718b9516",
   "metadata": {
    "scrolled": true
   },
   "outputs": [
    {
     "name": "stdout",
     "output_type": "stream",
     "text": [
      "Size of pizza : large \n",
      "                   Cheese Toppings : 2\n",
      "                   Pepperoni Toppings : 2\n",
      "                   Mushroom Toppings : 4\n"
     ]
    }
   ],
   "source": [
    "print(pizza.__str__())"
   ]
  },
  {
   "cell_type": "code",
   "execution_count": 35,
   "id": "8b7f77c3",
   "metadata": {},
   "outputs": [],
   "source": [
    "class DeluxePizza:\n",
    "\n",
    "    numberOfPizzas = 0\n",
    "        \n",
    "    def __init__(self,cheese_toppings,pepperoni_toppings,mushroom_toppings,size,veggieTopping,stuffedWithCheese):\n",
    "        self.cheese_toppings = cheese_toppings\n",
    "        self.pepperoni_toppings = pepperoni_toppings\n",
    "        self.mushroom_toppings = mushroom_toppings\n",
    "        self.veggieTopping = veggieTopping\n",
    "        if stuffedWithCheese == True:\n",
    "            self.stuffedWithCheese = True\n",
    "        else:\n",
    "            self.stuffedWithCheese = False\n",
    "            \n",
    "        if size == 1:\n",
    "            self.size = 'small'\n",
    "        elif size == 2:\n",
    "            self.size = 'medium'\n",
    "        elif size == 3:\n",
    "            self.size = 'large'\n",
    "        else:\n",
    "            size = None\n",
    "        \n",
    "        DeluxePizza.numberOfPizza+=1\n",
    "            \n",
    "        \n",
    "    def get_cheese_toppings(self):\n",
    "        return self.cheese_toppings\n",
    "    \n",
    "    def set_cheese_toppings(self,cheese_toppings):\n",
    "        self.cheese_toppings = cheese_toppings\n",
    "    \n",
    "    def get_pepperoni_toppings(self):\n",
    "        return self.pepperoni_toppings\n",
    "    \n",
    "    def set_pepperoni_toppings(self,pepperoni_toppings):\n",
    "        self.pepperoni_toppings = pepperoni_toppings\n",
    "    \n",
    "    def get_mushroom_toppings(self):\n",
    "        return self.mushroom_toppings\n",
    "    \n",
    "    def set_mushroom_toppings(self,mushroom_toppings):\n",
    "        self.mushroom_toppings = mushroom_toppings    \n",
    "        \n",
    "    def get_stuffedWithCheese(self):\n",
    "        return self.stuffedWithCheese\n",
    "    \n",
    "    def set_stuffedWithCheese(self,stuffedWithCheese):\n",
    "        self.stuffedWithCheese = stuffedWithCheese    \n",
    "        \n",
    "    def get_veggieTopping(self):\n",
    "        return self.veggieTopping\n",
    "    \n",
    "    def set_veggieTopping(self,veggieTopping):\n",
    "        self.veggieTopping = veggieTopping    \n",
    "        \n",
    "    def numberOfPizzas(self):\n",
    "        return self.numberOfPizzas\n",
    "        \n",
    "    def calcCost(self):\n",
    "        if self.size == 'small':\n",
    "            \n",
    "            if self.stuffedWithCheese == True:\n",
    "                return 10+2+(self.cheese_toppings*2)+(self.pepperoni_toppings*2)+(self.mushroom_toppings*2)+(self.veggieTopping*3)\n",
    "            else:\n",
    "                return 10+(self.cheese_toppings*2)+(self.pepperoni_toppings*2)+(self.mushroom_toppings*2)+(self.veggieTopping*3)\n",
    "        \n",
    "        elif self.size == 'medium':\n",
    "            \n",
    "            if self.stuffedWithCheese == True:\n",
    "                return 12+4+(self.cheese_toppings*2)+(self.pepperoni_toppings*2)+(self.mushroom_toppings*2)+(self.veggieTopping*3)\n",
    "            else:\n",
    "                return 12+(self.cheese_toppings*2)+(self.pepperoni_toppings*2)+(self.mushroom_toppings*2)+(self.veggieTopping*3)\n",
    "                \n",
    "        elif self.size == 'large':\n",
    "            \n",
    "            if self.stuffedWithCheese == True:\n",
    "                return 14+6+(self.cheese_toppings*2)+(self.pepperoni_toppings*2)+(self.mushroom_toppings*2)+(self.veggieTopping*3)\n",
    "            else:\n",
    "                return 14+(self.cheese_toppings*2)+(self.pepperoni_toppings*2)+(self.mushroom_toppings*2)+(self.veggieTopping*3)\n",
    "        \n",
    "        else:\n",
    "            return (self.cheese_toppings*2)+(self.pepperoni_toppings*2)+(self.mushroom_toppings*2)+(self.veggieTopping*3)\n",
    "        \n",
    "    def __str__(self):\n",
    "        return f\"\"\"Size of pizza : {self.size} \n",
    "                   Cheese Toppings : {str(self.cheese_toppings)}\n",
    "                   Pepperoni Toppings : {str(self.pepperoni_toppings)}\n",
    "                   Mushroom Toppings : {str(self.mushroom_toppings)}\"\"\""
   ]
  },
  {
   "cell_type": "code",
   "execution_count": null,
   "id": "5ce87eb3",
   "metadata": {},
   "outputs": [],
   "source": []
  }
 ],
 "metadata": {
  "kernelspec": {
   "display_name": "Python 3",
   "language": "python",
   "name": "python3"
  },
  "language_info": {
   "codemirror_mode": {
    "name": "ipython",
    "version": 3
   },
   "file_extension": ".py",
   "mimetype": "text/x-python",
   "name": "python",
   "nbconvert_exporter": "python",
   "pygments_lexer": "ipython3",
   "version": "3.8.8"
  }
 },
 "nbformat": 4,
 "nbformat_minor": 5
}
